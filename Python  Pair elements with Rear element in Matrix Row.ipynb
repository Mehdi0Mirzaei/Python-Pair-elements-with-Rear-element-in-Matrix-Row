{
 "cells": [
  {
   "cell_type": "code",
   "execution_count": 17,
   "id": "4b745106",
   "metadata": {},
   "outputs": [
    {
     "name": "stdout",
     "output_type": "stream",
     "text": [
      "The original list is : [[4, 5, 6], [2, 4, 5], [6, 7, 5]]\n",
      "The list after pairing is : [[[4, 6], [5, 6]], [[2, 5], [4, 5]], [[6, 5], [7, 5]]]\n"
     ]
    }
   ],
   "source": [
    "# Initializing list\n",
    "test_list = [[4, 5, 6], [2, 4, 5], [6, 7, 5]]\n",
    " \n",
    "# printing original list\n",
    "print(\"The original list is : \" + str(test_list))\n",
    " \n",
    "# Pair elements with Rear element in Matrix Row\n",
    "# using list comprehension\n",
    "res = []\n",
    "for sub in test_list:\n",
    "    res.append([[ele, sub[-1]] for ele in sub[:-1]])\n",
    "     \n",
    "# printing result\n",
    "print (\"The list after pairing is : \" + str(res))"
   ]
  },
  {
   "cell_type": "code",
   "execution_count": 18,
   "id": "7d6f8b83",
   "metadata": {},
   "outputs": [
    {
     "name": "stdout",
     "output_type": "stream",
     "text": [
      "The original list is : [[4, 5, 6], [2, 4, 5], [6, 7, 5]]\n",
      "The list after pairing is : [[(4, 6), (5, 6)], [(2, 5), (4, 5)], [(6, 5), (7, 5)]]\n"
     ]
    }
   ],
   "source": [
    "#Initializing list\n",
    "test_list = [[4, 5, 6], [2, 4, 5], [6, 7, 5]]\n",
    " \n",
    "#printing original list\n",
    "print(\"The original list is : \" + str(test_list))\n",
    " \n",
    "#Pair elements with Rear element in Matrix Row\n",
    "#using zip function\n",
    "res = []\n",
    "for sub in test_list:\n",
    "    res.append(list(zip(sub[:-1], [sub[-1]] * (len(sub) - 1))))\n",
    " #printing result\n",
    "print (\"The list after pairing is : \" + str(res))"
   ]
  },
  {
   "cell_type": "code",
   "execution_count": 19,
   "id": "ffc98e71",
   "metadata": {},
   "outputs": [
    {
     "name": "stdout",
     "output_type": "stream",
     "text": [
      "The original list is : [[4, 5, 6], [2, 4, 5], [6, 7, 5]]\n",
      "The list after pairing is : [[[4, 6], [5, 6]], [[2, 5], [4, 5]], [[6, 5], [7, 5]]]\n"
     ]
    }
   ],
   "source": [
    "# Initializing list\n",
    "test_list = [[4, 5, 6], [2, 4, 5], [6, 7, 5]]\n",
    " \n",
    "# printing original list\n",
    "print(\"The original list is : \" + str(test_list))\n",
    " \n",
    "# Pair elements with Rear element in Matrix Row\n",
    "# using nested loop\n",
    "res = []\n",
    "for sub in test_list:\n",
    "    temp = []\n",
    "    for i in range(len(sub)-1):\n",
    "        temp.append([sub[i], sub[-1]])\n",
    "    res.append(temp)\n",
    " # printing result\n",
    "print(\"The list after pairing is : \" + str(res))"
   ]
  },
  {
   "cell_type": "code",
   "execution_count": 20,
   "id": "a58062d4",
   "metadata": {},
   "outputs": [
    {
     "name": "stdout",
     "output_type": "stream",
     "text": [
      "The original list is : [[4, 5, 6], [2, 4, 5], [6, 7, 5]]\n",
      "The list after pairing is : [[(4, 6), (5, 6)], [(2, 5), (4, 5)], [(6, 5), (7, 5)]]\n"
     ]
    }
   ],
   "source": [
    "test_list = [[4, 5, 6], [2, 4, 5], [6, 7, 5]]\n",
    " \n",
    "# Printing original list\n",
    "print(\"The original list is : \" + str(test_list))\n",
    " \n",
    "# Pair elements with Rear element in Matrix Row using list comprehension with tuple packing and unpacking\n",
    "res = [[(ele, sub[-1]) for ele in sub[:-1]] for sub in test_list]\n",
    " \n",
    "# Printing result\n",
    "print(\"The list after pairing is : \" + str(res))"
   ]
  },
  {
   "cell_type": "code",
   "execution_count": null,
   "id": "33b8ef8e",
   "metadata": {},
   "outputs": [],
   "source": []
  }
 ],
 "metadata": {
  "kernelspec": {
   "display_name": "Python 3 (ipykernel)",
   "language": "python",
   "name": "python3"
  },
  "language_info": {
   "codemirror_mode": {
    "name": "ipython",
    "version": 3
   },
   "file_extension": ".py",
   "mimetype": "text/x-python",
   "name": "python",
   "nbconvert_exporter": "python",
   "pygments_lexer": "ipython3",
   "version": "3.9.17"
  }
 },
 "nbformat": 4,
 "nbformat_minor": 5
}
